{
 "cells": [
  {
   "cell_type": "markdown",
   "id": "08e0ed55-3252-48e5-aaf5-2553b2445fda",
   "metadata": {},
   "source": [
    "# Anomaly Detection Tutorial Rubin CW 2025\n",
    "#### Authors: Siddharth Chaini, Andres A. Plazas Malagón, Ryan Lau, Tatiana Acero Cuellar\n",
    "\n",
    "Parts of this tutorial are based on code provided by Ryan Lau and Tatiana Acero-Cuellar - thank you! And thanks to Federica Bianco for discussions on this.\n",
    "\n",
    "July 31, 2025\n",
    "\n",
    "Other official DP tutorials of interest:\n",
    "1. [DP1: Variable star light curves](https://dp1.lsst.io/tutorials/notebook/305/notebook-305-1.html)\n",
    "2. [DP1: Transient light curves](https://dp1.lsst.io/tutorials/notebook/306/notebook-306-1.html)\n",
    "3. [DP1: Candidate transient identification](https://dp1.lsst.io/tutorials/notebook/306/notebook-306-2.html)\n",
    "4. [DP0.2: DiaObject Anomaly Detection in DP0.2](https://dp0-2.lsst.io/_static/nb_html/17_DiaObject_Anomaly_Detection.html)\n",
    "5. [DP0.2: Introduction to AI-based Image Classification with Pytorch](https://dp0-2.lsst.io/_static/nb_html/19a_Introduction_to_AI.html)"
   ]
  },
  {
   "cell_type": "markdown",
   "id": "2784503a-cb07-4923-8a06-415807c2de01",
   "metadata": {},
   "source": [
    "## 0. Imports"
   ]
  },
  {
   "cell_type": "code",
   "execution_count": null,
   "id": "b563d3b9-1103-42e6-a291-5b487d8a9af6",
   "metadata": {},
   "outputs": [],
   "source": [
    "import matplotlib.pyplot as plt\n",
    "import numpy as np\n",
    "import pandas as pd\n",
    "from lsst.rsp import get_tap_service\n",
    "from lsst.utils.plotting import (\n",
    "    get_multiband_plot_colors,\n",
    "    get_multiband_plot_symbols,\n",
    ")\n",
    "from sklearn.ensemble import IsolationForest\n",
    "\n",
    "service = get_tap_service(\"tap\")\n",
    "assert service is not None\n",
    "\n",
    "filter_names = [\"u\", \"g\", \"r\", \"i\", \"z\", \"y\"]\n",
    "filter_colors = get_multiband_plot_colors()\n",
    "filter_symbols = get_multiband_plot_symbols()"
   ]
  },
  {
   "cell_type": "markdown",
   "id": "faf1ee0e-6120-4833-8f81-b3422a0b0fe3",
   "metadata": {},
   "source": [
    "## 1. Query Photometric Data"
   ]
  },
  {
   "cell_type": "code",
   "execution_count": null,
   "id": "419d82f4-0422-4545-80fc-2d3c682f4896",
   "metadata": {},
   "outputs": [],
   "source": [
    "diaobjid_features = [\n",
    "    \"r_psfFluxChi2\",\n",
    "    \"r_psfFluxLinearIntercept\",\n",
    "    \"r_psfFluxSkew\",\n",
    "    \"r_psfFluxStetsonJ\",\n",
    "    \"r_psfFluxMean\",\n",
    "    \"r_psfFluxLinearSlope\",\n",
    "    \"r_psfFluxSigma\",\n",
    "]"
   ]
  },
  {
   "cell_type": "code",
   "execution_count": null,
   "id": "c5cb78eb-d2de-4c65-a041-c3c6cd8af5a0",
   "metadata": {},
   "outputs": [],
   "source": [
    "query = f\"\"\"\n",
    "SELECT\n",
    "    diaObjectId, ra, dec,\n",
    "    {', '.join(diaobjid_features)}\n",
    "FROM\n",
    "    dp1.DiaObject\n",
    "WHERE\n",
    "    r_psfFluxNdata > 5\n",
    "    AND r_scienceFluxMean < 100000\n",
    "\"\"\"\n",
    "\n",
    "job = service.submit_job(query)\n",
    "job.run()\n",
    "job.wait(phases=[\"COMPLETED\", \"ERROR\"])\n",
    "if job.phase == \"ERROR\":\n",
    "    job.raise_if_error()\n",
    "\n",
    "assert job.phase == \"COMPLETED\"\n",
    "dia_objects = job.fetch_result().to_table().to_pandas().set_index(\"diaObjectId\")\n",
    "\n",
    "print(f\"Retrieved {len(dia_objects)} DiaObjects.\")"
   ]
  },
  {
   "cell_type": "code",
   "execution_count": null,
   "id": "36eae8be-0c86-4f2a-ac17-c36aee596971",
   "metadata": {},
   "outputs": [],
   "source": [
    "sample = dia_objects.to_numpy()"
   ]
  },
  {
   "cell_type": "markdown",
   "id": "ebfe0d43-91ec-4c57-8f3d-50ebd8d4e421",
   "metadata": {},
   "source": [
    "## 2. Run Isolation Forest"
   ]
  },
  {
   "cell_type": "markdown",
   "id": "26f5554b-28c6-4813-a14d-2067244c761e",
   "metadata": {},
   "source": [
    "From [sklearn's documentation](https://scikit-learn.org/stable/modules/generated/sklearn.ensemble.IsolationForest.html),\n",
    "> The IsolationForest ‘isolates’ observations by randomly selecting a feature and then randomly selecting a split value between the maximum and minimum values of the selected feature.\n",
    "<div align=\"center\">\n",
    "<img src=\"media/iforest.gif\" alt=\"Animation of Isolation Forest partitioning data\" width=\"450\"/>\n",
    "<br>\n",
    "<em>Fig: A simplified model of how an isolation forest makes cuts on the features randomly - anomalous points require less cuts to isolate.</em>\n",
    "</div>"
   ]
  },
  {
   "cell_type": "code",
   "execution_count": null,
   "id": "baecda2c-782b-4356-adff-bb39316883ab",
   "metadata": {},
   "outputs": [],
   "source": [
    "rng = np.random.RandomState(42)\n",
    "ifo = IsolationForest(max_samples=500, random_state=rng)\n",
    "ifo.fit(sample)"
   ]
  },
  {
   "cell_type": "code",
   "execution_count": null,
   "id": "43597e1f-fdda-4250-b212-013f7ae44404",
   "metadata": {},
   "outputs": [],
   "source": [
    "scores = ifo.score_samples(sample)\n",
    "outlier_indices = np.argsort(scores)[:20]"
   ]
  },
  {
   "cell_type": "code",
   "execution_count": null,
   "id": "7c8765f3-5d15-4ad0-8325-349b11cda2da",
   "metadata": {},
   "outputs": [],
   "source": [
    "plt.figure(figsize=(10, 6))\n",
    "plt.title(\"Histogram of Isolation Forest Scores\")\n",
    "plt.hist(scores, bins=50, log=True)\n",
    "plt.xlabel(\"Anomaly Score\")\n",
    "plt.ylabel(\"Number of DiaObjects\")\n",
    "plt.show()"
   ]
  },
  {
   "cell_type": "code",
   "execution_count": null,
   "id": "e080432d-5811-4f4b-9e65-4b6006aa7a53",
   "metadata": {},
   "outputs": [],
   "source": [
    "outlier_diaobject_ids = dia_objects.index[outlier_indices]"
   ]
  },
  {
   "cell_type": "code",
   "execution_count": null,
   "id": "59cedf57-1552-4247-aafb-85281e32ee0c",
   "metadata": {},
   "outputs": [],
   "source": [
    "query_lightcurves = f\"\"\"\n",
    "SELECT\n",
    "    fsodo.diaObjectId,\n",
    "    fsodo.band,\n",
    "    fsodo.psfDiffFlux,\n",
    "    fsodo.psfDiffFluxErr,\n",
    "    vis.expMidptMJD\n",
    "FROM\n",
    "    dp1.ForcedSourceOnDiaObject AS fsodo\n",
    "JOIN\n",
    "    dp1.Visit AS vis ON vis.visit = fsodo.visit\n",
    "WHERE\n",
    "    fsodo.diaObjectId IN ({','.join(map(str, outlier_diaobject_ids))})\n",
    "\"\"\"\n",
    "\n",
    "job_lightcurves = service.submit_job(query_lightcurves)\n",
    "job_lightcurves.run()\n",
    "job_lightcurves.wait(phases=[\"COMPLETED\", \"ERROR\"])\n",
    "if job_lightcurves.phase == \"ERROR\":\n",
    "    job_lightcurves.raise_if_error()\n",
    "\n",
    "assert job_lightcurves.phase == \"COMPLETED\"\n",
    "forced_source_outliers = job_lightcurves.fetch_result().to_table().to_pandas()"
   ]
  },
  {
   "cell_type": "code",
   "execution_count": null,
   "id": "5d6bd087-1e43-4ff7-9ea6-7565b80c3c40",
   "metadata": {},
   "outputs": [],
   "source": [
    "fig, axes = plt.subplots(5, 4, figsize=(15, 15), sharex=True)\n",
    "axes = axes.flatten()\n",
    "\n",
    "for i, diaobject_id in enumerate(outlier_diaobject_ids):\n",
    "    ax = axes[i]\n",
    "    object_data = forced_source_outliers[\n",
    "        forced_source_outliers[\"diaObjectId\"] == diaobject_id\n",
    "    ]\n",
    "    for band in filter_names:\n",
    "        band_data = object_data[object_data[\"band\"] == band]\n",
    "        if len(band_data) > 0:\n",
    "            ax.errorbar(\n",
    "                band_data[\"expMidptMJD\"],\n",
    "                band_data[\"psfDiffFlux\"],\n",
    "                yerr=band_data[\"psfDiffFluxErr\"],\n",
    "                fmt=filter_symbols[band],\n",
    "                color=filter_colors[band],\n",
    "                label=band,\n",
    "                alpha=0.7,\n",
    "            )\n",
    "    ax.set_title(f\"DiaObject ID: {diaobject_id}\")\n",
    "    if i >= 16:\n",
    "        ax.set_xlabel(\"Modified Julian Date\")\n",
    "    if i % 4 == 0:\n",
    "        ax.set_ylabel(\"Difference Flux (nJy)\")\n",
    "\n",
    "plt.tight_layout()\n",
    "plt.show()"
   ]
  },
  {
   "cell_type": "code",
   "execution_count": null,
   "id": "92e5186c-da61-444a-9a03-f430e41428ff",
   "metadata": {},
   "outputs": [],
   "source": [
    "top_outlier_id = outlier_diaobject_ids[0]\n",
    "top_outlier_data = dia_objects.loc[top_outlier_id]\n",
    "print(\"Top Outlier\")\n",
    "print(f\"  DiaObject ID: {top_outlier_data.index[0]}\")\n",
    "print(f\"  RA: {top_outlier_data['ra']}\")\n",
    "print(f\"  Dec: {top_outlier_data['dec']}\")\n",
    "print(f\"  r-band PSF Flux Mean: {top_outlier_data['r_psfFluxMean']}\")\n",
    "print(f\"  r-band PSF Flux Sigma: {top_outlier_data['r_psfFluxSigma']}\")\n",
    "print(f\"  r-band PSF Flux Linear Slope: {top_outlier_data['r_psfFluxLinearSlope']}\")"
   ]
  },
  {
   "cell_type": "markdown",
   "id": "900f2fcf-8917-4d4a-b4c5-98e080f6201f",
   "metadata": {},
   "source": [
    "Add comments about analysis"
   ]
  },
  {
   "cell_type": "code",
   "execution_count": null,
   "id": "eef27a5c-47bb-41fe-8094-2236d338c8d5",
   "metadata": {},
   "outputs": [],
   "source": [
    "top_outlier_id = outlier_diaobject_ids[0]\n",
    "top_outlier_data = dia_objects.loc[top_outlier_id]\n",
    "print(\"Top Outlier\")\n",
    "print(f\"  DiaObject ID: {top_outlier_id}\")\n",
    "print(f\"  RA: {top_outlier_data['ra']}\")\n",
    "print(f\"  Dec: {top_outlier_data['dec']}\")\n",
    "print(f\"  r-band PSF Flux Mean: {top_outlier_data['r_psfFluxMean']}\")\n",
    "print(f\"  r-band PSF Flux Sigma: {top_outlier_data['r_psfFluxSigma']}\")\n",
    "print(f\"  r-band PSF Flux Linear Slope: {top_outlier_data['r_psfFluxLinearSlope']}\")"
   ]
  },
  {
   "cell_type": "code",
   "execution_count": null,
   "id": "7b409863-d1f7-4dd7-aff6-b9f7f717be94",
   "metadata": {},
   "outputs": [],
   "source": [
    "# for top_outlier_id in outlier_diaobject_ids:\n",
    "#     top_outlier_data = dia_objects.loc[top_outlier_id]\n",
    "#     print(f\"  DiaObject ID: {top_outlier_id}\")\n",
    "#     print(f\"  RA, DEC: {top_outlier_data['ra']} {top_outlier_data['dec']}\")\n",
    "#     print(f\"  r-band PSF Flux Mean: {top_outlier_data['r_psfFluxMean']}\")\n",
    "#     print(f\"  r-band PSF Flux Sigma: {top_outlier_data['r_psfFluxSigma']}\")\n",
    "#     print(f\"  r-band PSF Flux Linear Slope: {top_outlier_data['r_psfFluxLinearSlope']}\")\n",
    "#     print(\"*\"*20)"
   ]
  },
  {
   "cell_type": "markdown",
   "id": "0e45426d-fd16-49dc-bbd0-b10da6fc31cb",
   "metadata": {},
   "source": [
    "## 3. Run DistClassiPy: Anomalies\n",
    "\n",
    "<div align=\"center\">\n",
    "<img src=\"media/dcpy-anomalies.gif\" alt=\"Animation of DistClassiPy's anomaly detection method\" width=\"450\"/>\n",
    "<br>\n",
    "<em>Fig: A simplified model of how multiple distance metrics can be used to flag points which are far away from known classes.</em>\n",
    "</div>\n",
    "\n"
   ]
  },
  {
   "cell_type": "code",
   "execution_count": null,
   "id": "267bb64f-0135-47db-ab45-aa9d31c1e4b5",
   "metadata": {
    "scrolled": true
   },
   "outputs": [],
   "source": [
    "!pip install git+http://github.com/sidchaini/distclassipy\n",
    "# pip install distclassipy"
   ]
  },
  {
   "cell_type": "code",
   "execution_count": null,
   "id": "79fda017-b2b7-4dd7-b5ba-b428b641e0ce",
   "metadata": {},
   "outputs": [],
   "source": [
    "from distclassipy.anomaly import DistanceAnomaly"
   ]
  },
  {
   "cell_type": "markdown",
   "id": "b54af5bc-8bb8-4b0d-8fad-e62abfdd82a0",
   "metadata": {},
   "source": [
    "Now, we also need some labels for DistClassiPy to find an anchor to \"known\" classes. We can do this by cross matching DP1 with Gaia data (see ```2. gaia dp1 xmatch.ipynb```).\n",
    "\n",
    "Here, let's load the cross match table generated in the other notebook."
   ]
  },
  {
   "cell_type": "code",
   "execution_count": null,
   "id": "8ccd3ee4-48f6-4b85-99f5-651d6c4f34f4",
   "metadata": {},
   "outputs": [],
   "source": [
    "# features = pd.read_parquet(\"../dp1anom/data/dp1_features_sc.parquet\")\n",
    "gaia_xmatch = pd.read_csv(\"gaia_matches.csv\").set_index(\"diaObjectId\")"
   ]
  },
  {
   "cell_type": "code",
   "execution_count": null,
   "id": "9faa400c-8962-4847-9ee1-351072b5aeb4",
   "metadata": {},
   "outputs": [],
   "source": [
    "common_objs = np.intersect1d(gaia_xmatch.index, dia_objects.index)\n",
    "print(f\"Found {len(common_objs)} objects common in Gaia DR3 and DP1\")\n",
    "gaia_classes = (\n",
    "    gaia_xmatch.loc[common_objs, [\"best_class_name\"]]\n",
    "    .reset_index(drop=False)\n",
    "    .drop_duplicates()\n",
    "    .set_index(\"diaObjectId\")\n",
    ")"
   ]
  },
  {
   "cell_type": "code",
   "execution_count": null,
   "id": "db08ee89-8d4b-408d-8b7e-893dd45158de",
   "metadata": {},
   "outputs": [],
   "source": [
    "gaia_classes.value_counts()"
   ]
  },
  {
   "cell_type": "code",
   "execution_count": null,
   "id": "d6428708-f2fa-4541-bced-d3bee73f99de",
   "metadata": {},
   "outputs": [],
   "source": [
    "y_knowns_df = gaia_classes[\"best_class_name\"]\n",
    "X_knowns_df = dia_objects.loc[y_knowns_df.index,]"
   ]
  },
  {
   "cell_type": "code",
   "execution_count": null,
   "id": "6c45e5f7-6de5-41f7-85a5-660a27593f51",
   "metadata": {},
   "outputs": [],
   "source": [
    "X_unknowns_df = dia_objects.loc[:, X_knowns_df.columns].drop(X_knowns_df.index)"
   ]
  },
  {
   "cell_type": "code",
   "execution_count": null,
   "id": "589d12f1-5b42-401f-8009-805e0647a0be",
   "metadata": {},
   "outputs": [],
   "source": [
    "model = DistanceAnomaly(cluster_agg=\"min\", metric_agg=\"median\", normalize_scores=True)"
   ]
  },
  {
   "cell_type": "code",
   "execution_count": null,
   "id": "bea51fa2-2bcb-4148-b016-d9052b44c7cc",
   "metadata": {},
   "outputs": [],
   "source": [
    "model.fit(X_knowns_df.to_numpy(), y_knowns_df.to_numpy())"
   ]
  },
  {
   "cell_type": "code",
   "execution_count": null,
   "id": "9cf765a0-aaa5-492a-baf8-881049bc5a79",
   "metadata": {},
   "outputs": [],
   "source": [
    "scores = -model.decision_function(X_unknowns_df.to_numpy())\n",
    "outlier_indices = np.argsort(scores)[:20]"
   ]
  },
  {
   "cell_type": "code",
   "execution_count": null,
   "id": "c0ab6a56-edc6-44a1-a48d-6dc4496cfc9c",
   "metadata": {},
   "outputs": [],
   "source": [
    "outlier_indices = np.argsort(scores)[:20]"
   ]
  },
  {
   "cell_type": "code",
   "execution_count": null,
   "id": "18af7213-fb21-4863-9a0a-e736cb4baf5d",
   "metadata": {},
   "outputs": [],
   "source": [
    "plt.figure(figsize=(10, 6))\n",
    "plt.title(\"Histogram of DistClassiPy Scores\")\n",
    "plt.hist(scores, bins=50, log=True)\n",
    "plt.xlabel(\"Anomaly Score\")\n",
    "plt.ylabel(\"Number of DiaObjects\")\n",
    "plt.show()"
   ]
  },
  {
   "cell_type": "code",
   "execution_count": null,
   "id": "92509ccb-acca-48b8-a508-b657b5a9d877",
   "metadata": {},
   "outputs": [],
   "source": [
    "outlier_diaobject_ids = dia_objects.index[outlier_indices]"
   ]
  },
  {
   "cell_type": "code",
   "execution_count": null,
   "id": "c7c2d5e6-3cc5-41cc-84ae-0526c7854f83",
   "metadata": {},
   "outputs": [],
   "source": [
    "query_lightcurves = f\"\"\"\n",
    "SELECT\n",
    "    fsodo.diaObjectId,\n",
    "    fsodo.band,\n",
    "    fsodo.psfDiffFlux,\n",
    "    fsodo.psfDiffFluxErr,\n",
    "    vis.expMidptMJD\n",
    "FROM\n",
    "    dp1.ForcedSourceOnDiaObject AS fsodo\n",
    "JOIN\n",
    "    dp1.Visit AS vis ON vis.visit = fsodo.visit\n",
    "WHERE\n",
    "    fsodo.diaObjectId IN ({','.join(map(str, outlier_diaobject_ids))})\n",
    "\"\"\"\n",
    "\n",
    "job_lightcurves = service.submit_job(query_lightcurves)\n",
    "job_lightcurves.run()\n",
    "job_lightcurves.wait(phases=[\"COMPLETED\", \"ERROR\"])\n",
    "if job_lightcurves.phase == \"ERROR\":\n",
    "    job_lightcurves.raise_if_error()\n",
    "\n",
    "assert job_lightcurves.phase == \"COMPLETED\"\n",
    "forced_source_outliers = job_lightcurves.fetch_result().to_table().to_pandas()"
   ]
  },
  {
   "cell_type": "code",
   "execution_count": null,
   "id": "ff3318c7-edb9-4b33-9b6c-79a3bb23b96b",
   "metadata": {},
   "outputs": [],
   "source": [
    "fig, axes = plt.subplots(5, 4, figsize=(15, 15), sharex=True)\n",
    "axes = axes.flatten()\n",
    "\n",
    "for i, diaobject_id in enumerate(outlier_diaobject_ids):\n",
    "    ax = axes[i]\n",
    "    object_data = forced_source_outliers[\n",
    "        forced_source_outliers[\"diaObjectId\"] == diaobject_id\n",
    "    ]\n",
    "    for band in filter_names:\n",
    "        band_data = object_data[object_data[\"band\"] == band]\n",
    "        if len(band_data) > 0:\n",
    "            ax.errorbar(\n",
    "                band_data[\"expMidptMJD\"],\n",
    "                band_data[\"psfDiffFlux\"],\n",
    "                yerr=band_data[\"psfDiffFluxErr\"],\n",
    "                fmt=filter_symbols[band],\n",
    "                color=filter_colors[band],\n",
    "                label=band,\n",
    "                alpha=0.7,\n",
    "            )\n",
    "    ax.set_title(f\"DiaObject ID: {diaobject_id}\")\n",
    "    if i >= 16:\n",
    "        ax.set_xlabel(\"Modified Julian Date\")\n",
    "    if i % 4 == 0:\n",
    "        ax.set_ylabel(\"Difference Flux (nJy)\")\n",
    "\n",
    "plt.tight_layout()\n",
    "plt.show()"
   ]
  },
  {
   "cell_type": "code",
   "execution_count": null,
   "id": "1d828aec-b20a-43fc-b42e-a3ce91073e8b",
   "metadata": {},
   "outputs": [],
   "source": [
    "top_outlier_id = outlier_diaobject_ids[0]\n",
    "top_outlier_data = dia_objects.loc[top_outlier_id]\n",
    "print(\"Top Outlier\")\n",
    "print(f\"  DiaObject ID: {top_outlier_data.index[0]}\")\n",
    "print(f\"  RA: {top_outlier_data['ra']}\")\n",
    "print(f\"  Dec: {top_outlier_data['dec']}\")\n",
    "print(f\"  r-band PSF Flux Mean: {top_outlier_data['r_psfFluxMean']}\")\n",
    "print(f\"  r-band PSF Flux Sigma: {top_outlier_data['r_psfFluxSigma']}\")\n",
    "print(f\"  r-band PSF Flux Linear Slope: {top_outlier_data['r_psfFluxLinearSlope']}\")"
   ]
  },
  {
   "cell_type": "code",
   "execution_count": null,
   "id": "82814916-172d-4844-bbdf-774f07ab7842",
   "metadata": {},
   "outputs": [],
   "source": [
    "# for top_outlier_id in outlier_diaobject_ids:\n",
    "#     top_outlier_data = dia_objects.loc[top_outlier_id]\n",
    "#     # print(\"Top Outlier\")\n",
    "#     print(f\"  DiaObject ID: {top_outlier_id}\")\n",
    "#     print(f\"  RA, DED: {top_outlier_data['ra']} {top_outlier_data['dec']}\")\n",
    "#     print(f\"  r-band PSF Flux Mean: {top_outlier_data['r_psfFluxMean']}\")\n",
    "#     print(f\"  r-band PSF Flux Sigma: {top_outlier_data['r_psfFluxSigma']}\")\n",
    "#     print(f\"  r-band PSF Flux Linear Slope: {top_outlier_data['r_psfFluxLinearSlope']}\")\n",
    "#     print(\"*\"*20)"
   ]
  },
  {
   "cell_type": "markdown",
   "id": "cf04da00-c5a0-4ba6-a779-1da06f227bdc",
   "metadata": {},
   "source": [
    "## 4. Going further\n",
    "\n",
    "Now, in this tutorial we only used photometric data available from the catalogs. For more detailed analysis, you could use a feature extractor on every light curve. For example: [ALeRCE](https://github.com/alercebroker/pipeline)([Sánchez-Sáez+21](https://ui.adsabs.harvard.edu/abs/2021AJ....161..141S/abstract)) or [```light-curve```]((https://github.com/light-curve/light-curve-python))[(Malanchev+21)](https://ui.adsabs.harvard.edu/abs/2021MNRAS.502.5147M/abstract).\n",
    "\n",
    "After obtaining these features for your light curve sample, you can perform anomaly detection very similarly to above."
   ]
  }
 ],
 "metadata": {
  "kernelspec": {
   "display_name": "LSST",
   "language": "python",
   "name": "lsst"
  },
  "language_info": {
   "codemirror_mode": {
    "name": "ipython",
    "version": 3
   },
   "file_extension": ".py",
   "mimetype": "text/x-python",
   "name": "python",
   "nbconvert_exporter": "python",
   "pygments_lexer": "ipython3",
   "version": "3.12.11"
  }
 },
 "nbformat": 4,
 "nbformat_minor": 5
}
