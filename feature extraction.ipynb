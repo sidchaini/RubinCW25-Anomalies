{
 "cells": [
  {
   "cell_type": "code",
   "execution_count": null,
   "metadata": {},
   "outputs": [],
   "source": [
    "import numpy as np\n",
    "import pandas as pd\n",
    "import matplotlib.pyplot as plt\n",
    "import sys\n",
    "import os\n",
    "import glob\n",
    "from tqdm.auto import tqdm\n",
    "from typing import List"
   ]
  },
  {
   "cell_type": "code",
   "execution_count": null,
   "metadata": {},
   "outputs": [],
   "source": [
    "from lc_classifier.features.composites.elasticc import ElasticcFeatureExtractor\n",
    "from lc_classifier.features.core.base import AstroObject, FeatureExtractorComposite, FeatureExtractor\n",
    "from lc_classifier.features.extractors.color_feature_extractor import ColorFeatureExtractor\n",
    "from lc_classifier.features.extractors.period_extractor import PeriodExtractor\n",
    "from lc_classifier.features.extractors.folded_kim_extractor import FoldedKimExtractor\n",
    "from lc_classifier.features.extractors.harmonics_extractor import HarmonicsExtractor\n",
    "from lc_classifier.features.extractors.mhps_extractor import MHPSExtractor\n",
    "from lc_classifier.features.extractors.turbofats_extractor import TurboFatsExtractor\n",
    "from lc_classifier.features.extractors.spm_extractor import SPMExtractor\n",
    "from lc_classifier.features.extractors.sn_extractor import SNExtractor\n",
    "from lc_classifier.features.extractors.timespan_extractor import TimespanExtractor\n",
    "from lc_classifier.features.extractors.coordinate_extractor import CoordinateExtractor\n",
    "\n",
    "metacols = [\n",
    "    \"diaObjectId\",\n",
    "    \"ra\",\n",
    "    \"dec\",\n",
    "]"
   ]
  },
  {
   "cell_type": "code",
   "execution_count": null,
   "metadata": {},
   "outputs": [],
   "source": [
    "meta_df = pd.read_csv(\"/kaggle/input/lsst-dp1-anomaly-hunt/dia_objects_table.csv\")\n",
    "lc_df = pd.read_csv(\"/kaggle/input/lsst-dp1-anomaly-hunt/light_curves_table.csv\")\n",
    "lc_df = lc_df.sort_values(by=\"expMidptMJD\",ascending=True)"
   ]
  },
  {
   "cell_type": "code",
   "execution_count": null,
   "metadata": {},
   "outputs": [],
   "source": [
    "objids = meta_df[\"diaObjectId\"].sort_values(ascending=True).to_numpy()"
   ]
  },
  {
   "cell_type": "code",
   "execution_count": null,
   "metadata": {},
   "outputs": [],
   "source": [
    "objids = meta_df[\"diaObjectId\"].sort_values(ascending=True).to_numpy()\n",
    "bad_objids = [579577936487646820, 579577936487646823]\n",
    "objids = np.array([x for x in objids if x not in bad_objids])\n",
    "\n",
    "\n",
    "lc_df=lc_df[lc_df[\"diaObjectId\"].isin(objids)].reset_index(drop=True)\n",
    "meta_df=meta_df[meta_df[\"diaObjectId\"].isin(objids)].reset_index(drop=True)"
   ]
  },
  {
   "cell_type": "code",
   "execution_count": null,
   "metadata": {},
   "outputs": [],
   "source": [
    "np.save(\"objids.npy\", objids)"
   ]
  },
  {
   "cell_type": "code",
   "execution_count": null,
   "metadata": {},
   "outputs": [],
   "source": [
    "alerce_objects = []\n",
    "for objid in tqdm(objids,leave=False,desc=\"Converting to alerce object\"):\n",
    "\n",
    "    chosen_df = lc_df[(lc_df[\"diaObjectId\"]==objid)]\n",
    "\n",
    "    # detections\n",
    "\n",
    "    mjd = chosen_df[\"expMidptMJD\"]\n",
    "    band = chosen_df[\"band\"]\n",
    "    fluxcal = chosen_df[\"psfDiffFlux\"]\n",
    "    fluxcalerr = chosen_df[\"psfDiffFluxErr\"]\n",
    "    tot_pts = len(mjd)\n",
    "    \n",
    "    detections_data = {\n",
    "        \"diaObjectId\": [objid] * tot_pts,\n",
    "        \"mjd\": mjd,\n",
    "        \"fid\": band,\n",
    "        \"brightness\": fluxcal,\n",
    "        \"e_brightness\": fluxcalerr,\n",
    "    }\n",
    "    \n",
    "    detections = pd.DataFrame(detections_data)\n",
    "    detections[\"unit\"] = \"diff_flux\"\n",
    "    \n",
    "    detections[\"ra\"] = float(meta_df[meta_df[\"diaObjectId\"]==objid].loc[:,\"ra\"].values[0])\n",
    "    detections[\"dec\"] = float(meta_df[meta_df[\"diaObjectId\"]==objid].loc[:,\"dec\"].values[0])\n",
    "    \n",
    "    detections[\"candid\"] = None\n",
    "    detections[\"tid\"] = \"LSSTDP1_telescope\"\n",
    "    detections[\"sid\"] = \"LSSTDP1_survey\"\n",
    "    detections[\"pid\"] = \"LSSTDP1_program\"\n",
    "    \n",
    "    # metadata\n",
    "\n",
    "    metadata = meta_df[meta_df[\"diaObjectId\"]==objid].loc[:,metacols]\n",
    "    metadata[\"aid\"] = f\"aid_{objid}\"\n",
    "    metadata = (metadata.T).reset_index(drop=False)\n",
    "    metadata.columns = [\"name\", \"value\"]\n",
    "\n",
    "    # make alerce object\n",
    "    alerceobj = AstroObject(detections=detections,metadata=metadata)\n",
    "\n",
    "    # save\n",
    "    alerce_objects.append(alerceobj)"
   ]
  },
  {
   "cell_type": "code",
   "execution_count": null,
   "metadata": {},
   "outputs": [],
   "source": [
    "class DP1FeatureExtractor(FeatureExtractorComposite):\n",
    "    def _instantiate_extractors(self) -> List[FeatureExtractor]:\n",
    "        bands = list(\"ugrizy\")\n",
    "        unit = \"diff_flux\"\n",
    "\n",
    "        feature_extractors = [\n",
    "            ColorFeatureExtractor(bands, just_flux=True),\n",
    "            MHPSExtractor(bands, unit),\n",
    "            PeriodExtractor(\n",
    "                bands,\n",
    "                unit,\n",
    "                smallest_period=0.045,\n",
    "                largest_period=50.0,\n",
    "                trim_lightcurve_to_n_days=500.0,\n",
    "                min_length=15,\n",
    "                use_forced_photo=True,\n",
    "                return_power_rates=True,\n",
    "            ),\n",
    "            FoldedKimExtractor(bands, unit),\n",
    "            HarmonicsExtractor(bands, unit, use_forced_photo=False),\n",
    "            TurboFatsExtractor(bands, unit),\n",
    "            SPMExtractor(\n",
    "                bands,\n",
    "                unit,\n",
    "            ),\n",
    "            SNExtractor(bands, unit, use_forced_photo=False),\n",
    "            TimespanExtractor(),\n",
    "            CoordinateExtractor(),\n",
    "        ]\n",
    "        return feature_extractors"
   ]
  },
  {
   "cell_type": "code",
   "execution_count": null,
   "metadata": {},
   "outputs": [],
   "source": [
    "feature_extractor = DP1FeatureExtractor()\n",
    "feature_extractor.compute_features_batch(alerce_objects, progress_bar=True)"
   ]
  },
  {
   "cell_type": "code",
   "execution_count": null,
   "metadata": {},
   "outputs": [],
   "source": [
    "featvals = np.zeros(shape=(len(alerce_objects),419))\n",
    "\n",
    "for it, alerce_object in enumerate(tqdm(alerce_objects,leave=False, desc=\"Calculating features\")):\n",
    "    curfeatures_df = alerce_object.features.reset_index(drop=True)\n",
    "    featvals[it,:]=curfeatures_df.loc[:,\"value\"].to_numpy()"
   ]
  },
  {
   "cell_type": "code",
   "execution_count": null,
   "metadata": {},
   "outputs": [],
   "source": [
    "curfeatures_df.loc[415:,\"fid\"] = [\"nonfilter\",\"nonfilter\",\"nonfilter\",\"nonfilter\"]\n",
    "curfeatures_df[\"name\"] = ((curfeatures_df[\"name\"]+\"_\"+curfeatures_df[\"fid\"].str.replace(\",\",\"\")).str.replace(\"_ugrizY\",\"\")).str.replace(\"_nonfilter\",\"\")\n",
    "featnames = curfeatures_df[\"name\"].to_numpy()\n",
    "\n",
    "features_df = pd.DataFrame(featvals, index=objids, columns=featnames)\n",
    "features_df.index.name = \"diaObjectId\""
   ]
  },
  {
   "cell_type": "code",
   "execution_count": null,
   "metadata": {},
   "outputs": [],
   "source": [
    "features_df.to_parquet(f\"dp1_features_sc.parquet\")\n",
    "curfeatures_df.loc[:,[\"name\",\"fid\", \"sid\", \"version\"]].to_csv(f\"dp1_features_info_{start}-{end-1}.csv\",index=False)"
   ]
  }
 ],
 "metadata": {
  "kaggle": {
   "accelerator": "none",
   "dataSources": [
    {
     "datasetId": 7929312,
     "sourceId": 12569641,
     "sourceType": "datasetVersion"
    },
    {
     "sourceId": 252352420,
     "sourceType": "kernelVersion"
    }
   ],
   "dockerImageVersionId": 31089,
   "isGpuEnabled": false,
   "isInternetEnabled": true,
   "language": "python",
   "sourceType": "notebook"
  },
  "kernelspec": {
   "display_name": "LSST",
   "language": "python",
   "name": "lsst"
  },
  "language_info": {
   "codemirror_mode": {
    "name": "ipython",
    "version": 3
   },
   "file_extension": ".py",
   "mimetype": "text/x-python",
   "name": "python",
   "nbconvert_exporter": "python",
   "pygments_lexer": "ipython3",
   "version": "3.12.11"
  }
 },
 "nbformat": 4,
 "nbformat_minor": 4
}
