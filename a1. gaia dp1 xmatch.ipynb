{
 "cells": [
  {
   "cell_type": "markdown",
   "id": "872d3cec-4fd8-4b01-ad93-5288a2341538",
   "metadata": {},
   "source": [
    "# Gaia-DP1 Cross-Matching for Classifications\n",
    "#### Authors: Tatiana Acero-Cuellar, Siddharth Chaini"
   ]
  },
  {
   "cell_type": "markdown",
   "id": "cd3a7715-e2dc-4afe-85af-e7fe0b05d679",
   "metadata": {},
   "source": [
    "## 0. Imports"
   ]
  },
  {
   "cell_type": "code",
   "execution_count": null,
   "id": "7b04953f-7a2d-4332-a2cf-b7ef9a5d1450",
   "metadata": {},
   "outputs": [],
   "source": [
    "import astropy.units as u\n",
    "from astropy.coordinates import SkyCoord\n",
    "from astroquery.gaia import Gaia\n",
    "\n",
    "import matplotlib.pyplot as plt\n",
    "import lsst.daf.butler as dafButler\n",
    "import astropy\n",
    "import numpy as np\n",
    "import os\n",
    "import pandas as pd\n",
    "import gc\n",
    "\n",
    "import pandas as pd\n",
    "import getpass\n",
    "import matplotlib\n",
    "from astropy.time import Time\n",
    "from tqdm.auto import tqdm\n",
    "\n",
    "import io\n",
    "import re"
   ]
  },
  {
   "cell_type": "code",
   "execution_count": null,
   "id": "08bcc116-c24d-4cf5-ad33-8c2b0640529b",
   "metadata": {},
   "outputs": [],
   "source": [
    "butler = dafButler.Butler(\"dp1\", collections=\"LSSTComCam/DP1\")"
   ]
  },
  {
   "cell_type": "code",
   "execution_count": null,
   "id": "0a659fec-dc6a-41e5-b295-a558ed0c8b8f",
   "metadata": {},
   "outputs": [],
   "source": [
    "obj_refs = butler.query_datasets(\"dia_source\", limit=None)"
   ]
  },
  {
   "cell_type": "code",
   "execution_count": null,
   "id": "7050133f-56f7-43f3-ab38-e1f08fd54468",
   "metadata": {},
   "outputs": [],
   "source": [
    "matches = pd.DataFrame()\n",
    "total_sources = 0\n",
    "for i in tqdm(range(len(obj_refs))):\n",
    "    try:\n",
    "        diasource = butler.get(obj_refs[i]).to_pandas()\n",
    "        max_exp_ra, min_exp_ra = diasource.ra.max(), diasource.ra.min()\n",
    "        max_exp_dec, min_exp_dec = diasource.dec.max(), diasource.dec.min()\n",
    "\n",
    "        query = (\n",
    "            \"SELECT cls.source_id, best_class_name, s.ref_epoch, s.ra, s.dec FROM gaiadr3.vari_classifier_result AS cls \"\n",
    "            \"LEFT OUTER JOIN gaiadr3.gaia_source AS s ON s.source_id=cls.source_id \"\n",
    "            f\"WHERE ra BETWEEN {min_exp_ra} AND {max_exp_ra} \"\n",
    "            f\"AND dec BETWEEN {min_exp_dec} AND {max_exp_dec}\"\n",
    "        )\n",
    "        # Launch the query asynchronously\n",
    "        job = Gaia.launch_job_async(query=query)\n",
    "        results = job.get_results()\n",
    "\n",
    "        results = results.to_pandas()\n",
    "\n",
    "        catalog = SkyCoord(ra=results[\"ra\"], dec=results[\"dec\"], unit=u.deg)\n",
    "        detections_cat = SkyCoord(ra=diasource.ra, dec=diasource.dec, unit=u.deg)\n",
    "\n",
    "        idx, sep2d, dist3d = detections_cat.match_to_catalog_sky(catalog)\n",
    "        space_match_threshold = 1 * u.arcsec\n",
    "        diasource_mask = sep2d < space_match_threshold\n",
    "        print(\n",
    "            f\"{np.sum(diasource_mask)} of {len(detections_cat)} matched after applying spatial threshold\"\n",
    "        )\n",
    "\n",
    "        total_sources = total_sources + np.sum(diasource_mask)\n",
    "        if np.sum(diasource_mask) > 0:\n",
    "            # Get all matched\n",
    "            matched_diasource_idx = idx[\n",
    "                diasource_mask\n",
    "            ]  # index in stars of matched dia_detections\n",
    "            dia_idx_diasource = diasource.index[diasource_mask]\n",
    "\n",
    "            diasource.loc[dia_idx_diasource, \"id_match\"] = results.loc[\n",
    "                matched_diasource_idx, \"source_id\"\n",
    "            ].to_numpy()\n",
    "            diasource.loc[dia_idx_diasource, \"best_class_name\"] = results.loc[\n",
    "                matched_diasource_idx, \"best_class_name\"\n",
    "            ].to_numpy()\n",
    "\n",
    "            matches = pd.concat([matches, diasource[~diasource[\"id_match\"].isna()]])\n",
    "\n",
    "    except Exception as e:\n",
    "        print(e)\n",
    "print(f\"Total of matches {total_sources}\")\n",
    "matches.reset_index(drop=True).to_csv(\"gaia_matches.csv\", index=False)"
   ]
  }
 ],
 "metadata": {
  "kernelspec": {
   "display_name": "LSST",
   "language": "python",
   "name": "lsst"
  },
  "language_info": {
   "codemirror_mode": {
    "name": "ipython",
    "version": 3
   },
   "file_extension": ".py",
   "mimetype": "text/x-python",
   "name": "python",
   "nbconvert_exporter": "python",
   "pygments_lexer": "ipython3",
   "version": "3.12.11"
  }
 },
 "nbformat": 4,
 "nbformat_minor": 5
}
